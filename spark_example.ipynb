{
 "cells": [
  {
   "cell_type": "code",
   "execution_count": 1,
   "metadata": {},
   "outputs": [],
   "source": [
    "from pyspark.sql import SparkSession\n",
    "spark = SparkSession.builder.appName('local').getOrCreate()"
   ]
  },
  {
   "cell_type": "code",
   "execution_count": 2,
   "metadata": {},
   "outputs": [
    {
     "data": {
      "text/html": [
       "\n",
       "            <div>\n",
       "                <p><b>SparkSession - in-memory</b></p>\n",
       "                \n",
       "        <div>\n",
       "            <p><b>SparkContext</b></p>\n",
       "\n",
       "            <p><a href=\"http://8f57a2d80e3d:4040\">Spark UI</a></p>\n",
       "\n",
       "            <dl>\n",
       "              <dt>Version</dt>\n",
       "                <dd><code>v2.4.0</code></dd>\n",
       "              <dt>Master</dt>\n",
       "                <dd><code>local[*]</code></dd>\n",
       "              <dt>AppName</dt>\n",
       "                <dd><code>local</code></dd>\n",
       "            </dl>\n",
       "        </div>\n",
       "        \n",
       "            </div>\n",
       "        "
      ],
      "text/plain": [
       "<pyspark.sql.session.SparkSession at 0x7f2c49402c18>"
      ]
     },
     "execution_count": 2,
     "metadata": {},
     "output_type": "execute_result"
    }
   ],
   "source": [
    "spark"
   ]
  },
  {
   "cell_type": "code",
   "execution_count": 3,
   "metadata": {},
   "outputs": [
    {
     "name": "stdout",
     "output_type": "stream",
     "text": [
      "--2019-03-22 22:55:40--  https://vincentarelbundock.github.io/Rdatasets/csv/boot/amis.csv\n",
      "Resolving vincentarelbundock.github.io (vincentarelbundock.github.io)... 185.199.110.153, 185.199.108.153, 185.199.111.153, ...\n",
      "Connecting to vincentarelbundock.github.io (vincentarelbundock.github.io)|185.199.110.153|:443... connected.\n",
      "HTTP request sent, awaiting response... 200 OK\n",
      "Length: 137012 (134K) [text/csv]\n",
      "Saving to: ‘amis.csv.1’\n",
      "\n",
      "amis.csv.1          100%[===================>] 133.80K  --.-KB/s    in 0.1s    \n",
      "\n",
      "2019-03-22 22:55:40 (1.26 MB/s) - ‘amis.csv.1’ saved [137012/137012]\n",
      "\n"
     ]
    }
   ],
   "source": [
    "!wget https://vincentarelbundock.github.io/Rdatasets/csv/boot/amis.csv"
   ]
  },
  {
   "cell_type": "code",
   "execution_count": 4,
   "metadata": {},
   "outputs": [],
   "source": [
    "df = spark.read.format('csv').option('header', 'true').load('file:///home/jovyan/work/amis.csv')"
   ]
  },
  {
   "cell_type": "code",
   "execution_count": 5,
   "metadata": {},
   "outputs": [
    {
     "data": {
      "text/plain": [
       "['_c0', 'speed', 'period', 'warning', 'pair']"
      ]
     },
     "execution_count": 5,
     "metadata": {},
     "output_type": "execute_result"
    }
   ],
   "source": [
    "df.columns"
   ]
  },
  {
   "cell_type": "code",
   "execution_count": 6,
   "metadata": {},
   "outputs": [
    {
     "data": {
      "text/plain": [
       "8437"
      ]
     },
     "execution_count": 6,
     "metadata": {},
     "output_type": "execute_result"
    }
   ],
   "source": [
    "df.count()"
   ]
  },
  {
   "cell_type": "code",
   "execution_count": 8,
   "metadata": {},
   "outputs": [
    {
     "name": "stdout",
     "output_type": "stream",
     "text": [
      "+---+-----+------+-------+----+\n",
      "|_c0|speed|period|warning|pair|\n",
      "+---+-----+------+-------+----+\n",
      "|1  |26   |1     |1      |1   |\n",
      "|2  |26   |1     |1      |1   |\n",
      "|3  |26   |1     |1      |1   |\n",
      "|4  |26   |1     |1      |1   |\n",
      "|5  |27   |1     |1      |1   |\n",
      "|6  |28   |1     |1      |1   |\n",
      "|7  |28   |1     |1      |1   |\n",
      "|8  |28   |1     |1      |1   |\n",
      "|9  |28   |1     |1      |1   |\n",
      "|10 |29   |1     |1      |1   |\n",
      "|11 |29   |1     |1      |1   |\n",
      "|12 |29   |1     |1      |1   |\n",
      "|13 |29   |1     |1      |1   |\n",
      "|14 |29   |1     |1      |1   |\n",
      "|15 |29   |1     |1      |1   |\n",
      "|16 |29   |1     |1      |1   |\n",
      "|17 |29   |1     |1      |1   |\n",
      "|18 |30   |1     |1      |1   |\n",
      "|19 |30   |1     |1      |1   |\n",
      "|20 |30   |1     |1      |1   |\n",
      "+---+-----+------+-------+----+\n",
      "only showing top 20 rows\n",
      "\n"
     ]
    }
   ],
   "source": [
    "df.show(20, truncate=False)"
   ]
  },
  {
   "cell_type": "code",
   "execution_count": 20,
   "metadata": {},
   "outputs": [],
   "source": [
    "df = spark.read.format('csv').\\\n",
    "    option('header', 'true').\\\n",
    "    load('file:///home/jovyan/work/amis.csv')"
   ]
  },
  {
   "cell_type": "code",
   "execution_count": 27,
   "metadata": {},
   "outputs": [],
   "source": [
    "from pyspark.sql.types import IntegerType\n",
    "df = df.withColumn('speed', df['speed'].cast(IntegerType()))"
   ]
  },
  {
   "cell_type": "code",
   "execution_count": 28,
   "metadata": {},
   "outputs": [
    {
     "name": "stdout",
     "output_type": "stream",
     "text": [
      "root\n",
      " |-- _c0: string (nullable = true)\n",
      " |-- speed: integer (nullable = true)\n",
      " |-- period: string (nullable = true)\n",
      " |-- warning: string (nullable = true)\n",
      " |-- pair: string (nullable = true)\n",
      "\n"
     ]
    }
   ],
   "source": [
    "df.printSchema()"
   ]
  },
  {
   "cell_type": "code",
   "execution_count": 31,
   "metadata": {},
   "outputs": [
    {
     "name": "stdout",
     "output_type": "stream",
     "text": [
      "+----------+\n",
      "|sum(speed)|\n",
      "+----------+\n",
      "|    319123|\n",
      "+----------+\n",
      "\n"
     ]
    }
   ],
   "source": [
    "from pyspark.sql.functions import sum\n",
    "df.agg(sum('speed')).show()"
   ]
  },
  {
   "cell_type": "code",
   "execution_count": null,
   "metadata": {},
   "outputs": [],
   "source": []
  }
 ],
 "metadata": {
  "kernelspec": {
   "display_name": "Python 3",
   "language": "python",
   "name": "python3"
  },
  "language_info": {
   "codemirror_mode": {
    "name": "ipython",
    "version": 3
   },
   "file_extension": ".py",
   "mimetype": "text/x-python",
   "name": "python",
   "nbconvert_exporter": "python",
   "pygments_lexer": "ipython3",
   "version": "3.7.1"
  }
 },
 "nbformat": 4,
 "nbformat_minor": 2
}
