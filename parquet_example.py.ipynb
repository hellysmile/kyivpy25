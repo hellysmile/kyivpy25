{
 "cells": [
  {
   "cell_type": "code",
   "execution_count": 1,
   "metadata": {},
   "outputs": [],
   "source": [
    "import pandas as pd"
   ]
  },
  {
   "cell_type": "code",
   "execution_count": 24,
   "metadata": {},
   "outputs": [],
   "source": [
    "df = pd.read_csv('https://vincentarelbundock.github.io/Rdatasets/csv/boot/amis.csv')"
   ]
  },
  {
   "cell_type": "code",
   "execution_count": 36,
   "metadata": {},
   "outputs": [],
   "source": [
    "df.drop('Unnamed: 0', axis=1, inplace=True)"
   ]
  },
  {
   "cell_type": "code",
   "execution_count": 37,
   "metadata": {},
   "outputs": [
    {
     "name": "stdout",
     "output_type": "stream",
     "text": [
      "<class 'pandas.core.frame.DataFrame'>\n",
      "RangeIndex: 8437 entries, 0 to 8436\n",
      "Data columns (total 4 columns):\n",
      "speed      8437 non-null int64\n",
      "period     8437 non-null int64\n",
      "warning    8437 non-null int64\n",
      "pair       8437 non-null int64\n",
      "dtypes: int64(4)\n",
      "memory usage: 263.7 KB\n"
     ]
    }
   ],
   "source": [
    "df.info()"
   ]
  },
  {
   "cell_type": "code",
   "execution_count": 9,
   "metadata": {},
   "outputs": [
    {
     "name": "stdout",
     "output_type": "stream",
     "text": [
      "Hit:1 http://archive.ubuntu.com/ubuntu bionic InRelease\n",
      "Hit:2 http://security.ubuntu.com/ubuntu bionic-security InRelease   \n",
      "Hit:4 http://archive.ubuntu.com/ubuntu bionic-updates InRelease         \n",
      "Hit:3 http://repos.mesosphere.com/ubuntu xenial InRelease               \n",
      "Hit:5 http://archive.ubuntu.com/ubuntu bionic-backports InRelease       \n",
      "Reading package lists... Done                     \n",
      "Reading package lists... Done\n",
      "Building dependency tree       \n",
      "Reading state information... Done\n",
      "build-essential is already the newest version (12.4ubuntu1).\n",
      "libsnappy-dev is already the newest version (1.1.7-1).\n",
      "0 upgraded, 0 newly installed, 0 to remove and 27 not upgraded.\n"
     ]
    }
   ],
   "source": [
    "!sudo apt-get update\n",
    "!sudo apt-get install build-essential libsnappy-dev"
   ]
  },
  {
   "cell_type": "code",
   "execution_count": 10,
   "metadata": {},
   "outputs": [
    {
     "name": "stdout",
     "output_type": "stream",
     "text": [
      "Collecting fastparquet\n",
      "\u001b[?25l  Downloading https://files.pythonhosted.org/packages/73/2e/4407564c9e6a32a6c71be1506d06557c0f909c633fd2f96c97001fce1a8f/fastparquet-0.2.1.tar.gz (147kB)\n",
      "\u001b[K    100% |████████████████████████████████| 153kB 3.1MB/s ta 0:00:01\n",
      "\u001b[?25hCollecting python-snappy\n",
      "  Downloading https://files.pythonhosted.org/packages/45/35/65d9f8cc537129894b4b32647d80212d1fa342877581c5b8a69872cea8be/python-snappy-0.5.4.tar.gz\n",
      "Requirement already satisfied: pandas>=0.19 in /opt/conda/lib/python3.7/site-packages (from fastparquet) (0.24.2)\n",
      "Requirement already satisfied: numba>=0.28 in /opt/conda/lib/python3.7/site-packages (from fastparquet) (0.42.1)\n",
      "Requirement already satisfied: numpy>=1.11 in /opt/conda/lib/python3.7/site-packages (from fastparquet) (1.15.4)\n",
      "Collecting thrift>=0.11.0 (from fastparquet)\n",
      "\u001b[?25l  Downloading https://files.pythonhosted.org/packages/c6/b4/510617906f8e0c5660e7d96fbc5585113f83ad547a3989b80297ac72a74c/thrift-0.11.0.tar.gz (52kB)\n",
      "\u001b[K    100% |████████████████████████████████| 61kB 32.0MB/s ta 0:00:01\n",
      "\u001b[?25hRequirement already satisfied: six in /opt/conda/lib/python3.7/site-packages (from fastparquet) (1.12.0)\n",
      "Collecting pytest-runner (from fastparquet)\n",
      "  Downloading https://files.pythonhosted.org/packages/04/88/176f3b60929a391a02ff8514e0cb5bf81956da4b98c832ee2d8038bc8358/pytest_runner-4.4-py2.py3-none-any.whl\n",
      "Requirement already satisfied: pytz>=2011k in /opt/conda/lib/python3.7/site-packages (from pandas>=0.19->fastparquet) (2018.9)\n",
      "Requirement already satisfied: python-dateutil>=2.5.0 in /opt/conda/lib/python3.7/site-packages (from pandas>=0.19->fastparquet) (2.8.0)\n",
      "Requirement already satisfied: llvmlite>=0.27.0dev0 in /opt/conda/lib/python3.7/site-packages (from numba>=0.28->fastparquet) (0.27.1)\n",
      "Building wheels for collected packages: fastparquet, python-snappy, thrift\n",
      "  Building wheel for fastparquet (setup.py) ... \u001b[?25ldone\n",
      "\u001b[?25h  Stored in directory: /home/jovyan/.cache/pip/wheels/f9/3e/23/6aab966b822a83be5f85436cc1b38555d98e0b022bd4634c80\n",
      "  Building wheel for python-snappy (setup.py) ... \u001b[?25ldone\n",
      "\u001b[?25h  Stored in directory: /home/jovyan/.cache/pip/wheels/df/aa/d5/459b834baa4c9f0ea918a38750fb29981e4a01ef523a936c06\n",
      "  Building wheel for thrift (setup.py) ... \u001b[?25ldone\n",
      "\u001b[?25h  Stored in directory: /home/jovyan/.cache/pip/wheels/be/36/81/0f93ba89a1cb7887c91937948519840a72c0ffdd57cac0ae8f\n",
      "Successfully built fastparquet python-snappy thrift\n",
      "Installing collected packages: thrift, pytest-runner, fastparquet, python-snappy\n",
      "Successfully installed fastparquet-0.2.1 pytest-runner-4.4 python-snappy-0.5.4 thrift-0.11.0\n"
     ]
    }
   ],
   "source": [
    "!pip install fastparquet python-snappy"
   ]
  },
  {
   "cell_type": "code",
   "execution_count": 38,
   "metadata": {},
   "outputs": [],
   "source": [
    "df.to_parquet('amis.parquet', engine='fastparquet')"
   ]
  },
  {
   "cell_type": "code",
   "execution_count": 39,
   "metadata": {},
   "outputs": [
    {
     "name": "stdout",
     "output_type": "stream",
     "text": [
      "amis.csv      env\t\t    parquet_example.py.ipynb\r\n",
      "amis.parquet  pandas_example.ipynb  spark_example.ipynb\r\n"
     ]
    }
   ],
   "source": [
    "!ls"
   ]
  },
  {
   "cell_type": "code",
   "execution_count": 40,
   "metadata": {},
   "outputs": [],
   "source": [
    "from pyspark.sql import SparkSession\n",
    "spark = SparkSession.builder.appName('local').getOrCreate()"
   ]
  },
  {
   "cell_type": "code",
   "execution_count": 41,
   "metadata": {},
   "outputs": [],
   "source": [
    "df = spark.read.parquet('file:///home/jovyan/work/amis.parquet')"
   ]
  },
  {
   "cell_type": "code",
   "execution_count": 42,
   "metadata": {},
   "outputs": [
    {
     "name": "stdout",
     "output_type": "stream",
     "text": [
      "root\n",
      " |-- speed: long (nullable = true)\n",
      " |-- period: long (nullable = true)\n",
      " |-- warning: long (nullable = true)\n",
      " |-- pair: long (nullable = true)\n",
      "\n"
     ]
    }
   ],
   "source": [
    "df.printSchema()"
   ]
  },
  {
   "cell_type": "code",
   "execution_count": 43,
   "metadata": {},
   "outputs": [
    {
     "name": "stdout",
     "output_type": "stream",
     "text": [
      "+-----+------+-------+----+\n",
      "|speed|period|warning|pair|\n",
      "+-----+------+-------+----+\n",
      "|26   |1     |1      |1   |\n",
      "|26   |1     |1      |1   |\n",
      "|26   |1     |1      |1   |\n",
      "|26   |1     |1      |1   |\n",
      "|27   |1     |1      |1   |\n",
      "|28   |1     |1      |1   |\n",
      "|28   |1     |1      |1   |\n",
      "|28   |1     |1      |1   |\n",
      "|28   |1     |1      |1   |\n",
      "|29   |1     |1      |1   |\n",
      "|29   |1     |1      |1   |\n",
      "|29   |1     |1      |1   |\n",
      "|29   |1     |1      |1   |\n",
      "|29   |1     |1      |1   |\n",
      "|29   |1     |1      |1   |\n",
      "|29   |1     |1      |1   |\n",
      "|29   |1     |1      |1   |\n",
      "|30   |1     |1      |1   |\n",
      "|30   |1     |1      |1   |\n",
      "|30   |1     |1      |1   |\n",
      "+-----+------+-------+----+\n",
      "only showing top 20 rows\n",
      "\n"
     ]
    }
   ],
   "source": [
    "df.show(20, truncate=False)"
   ]
  }
 ],
 "metadata": {
  "kernelspec": {
   "display_name": "Python 3",
   "language": "python",
   "name": "python3"
  },
  "language_info": {
   "codemirror_mode": {
    "name": "ipython",
    "version": 3
   },
   "file_extension": ".py",
   "mimetype": "text/x-python",
   "name": "python",
   "nbconvert_exporter": "python",
   "pygments_lexer": "ipython3",
   "version": "3.7.1"
  }
 },
 "nbformat": 4,
 "nbformat_minor": 2
}
