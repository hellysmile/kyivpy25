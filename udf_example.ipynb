{
 "cells": [
  {
   "cell_type": "code",
   "execution_count": null,
   "metadata": {},
   "outputs": [],
   "source": [
    "!conda install -c conda-forge pyarrow=0.12.1"
   ]
  },
  {
   "cell_type": "code",
   "execution_count": 9,
   "metadata": {},
   "outputs": [],
   "source": [
    "from pyspark.sql import SparkSession\n",
    "spark = SparkSession.builder.appName('local').getOrCreate()"
   ]
  },
  {
   "cell_type": "code",
   "execution_count": 10,
   "metadata": {},
   "outputs": [],
   "source": [
    "df = spark.read.parquet('file:///home/jovyan/work/amis.parquet')"
   ]
  },
  {
   "cell_type": "code",
   "execution_count": 11,
   "metadata": {},
   "outputs": [],
   "source": [
    "from pyspark.sql.functions import udf\n",
    "from pyspark.sql.types import IntegerType\n",
    "\n",
    "@udf(IntegerType())\n",
    "def square(x):\n",
    "    return x ** 2"
   ]
  },
  {
   "cell_type": "code",
   "execution_count": 12,
   "metadata": {},
   "outputs": [],
   "source": [
    "df = df.withColumn('speed_square', square(df['speed']))"
   ]
  },
  {
   "cell_type": "code",
   "execution_count": 13,
   "metadata": {},
   "outputs": [
    {
     "name": "stdout",
     "output_type": "stream",
     "text": [
      "+-----+------+-------+----+------------+\n",
      "|speed|period|warning|pair|speed_square|\n",
      "+-----+------+-------+----+------------+\n",
      "|26   |1     |1      |1   |676         |\n",
      "|26   |1     |1      |1   |676         |\n",
      "|26   |1     |1      |1   |676         |\n",
      "|26   |1     |1      |1   |676         |\n",
      "|27   |1     |1      |1   |729         |\n",
      "|28   |1     |1      |1   |784         |\n",
      "|28   |1     |1      |1   |784         |\n",
      "|28   |1     |1      |1   |784         |\n",
      "|28   |1     |1      |1   |784         |\n",
      "|29   |1     |1      |1   |841         |\n",
      "|29   |1     |1      |1   |841         |\n",
      "|29   |1     |1      |1   |841         |\n",
      "|29   |1     |1      |1   |841         |\n",
      "|29   |1     |1      |1   |841         |\n",
      "|29   |1     |1      |1   |841         |\n",
      "|29   |1     |1      |1   |841         |\n",
      "|29   |1     |1      |1   |841         |\n",
      "|30   |1     |1      |1   |900         |\n",
      "|30   |1     |1      |1   |900         |\n",
      "|30   |1     |1      |1   |900         |\n",
      "+-----+------+-------+----+------------+\n",
      "only showing top 20 rows\n",
      "\n"
     ]
    }
   ],
   "source": [
    "df.show(20, truncate=False)"
   ]
  },
  {
   "cell_type": "code",
   "execution_count": 14,
   "metadata": {},
   "outputs": [],
   "source": [
    "df = df.drop('speed_square')"
   ]
  },
  {
   "cell_type": "code",
   "execution_count": 15,
   "metadata": {},
   "outputs": [],
   "source": [
    "import numpy as np\n",
    "from pyspark.sql.functions import pandas_udf\n",
    "from pyspark.sql.types import IntegerType\n",
    "\n",
    "@pandas_udf(IntegerType())\n",
    "def square(df):\n",
    "    return np.square(df)"
   ]
  },
  {
   "cell_type": "code",
   "execution_count": 16,
   "metadata": {},
   "outputs": [],
   "source": [
    "df = df.withColumn('speed_square', square(df['speed']))"
   ]
  },
  {
   "cell_type": "code",
   "execution_count": 17,
   "metadata": {},
   "outputs": [
    {
     "name": "stdout",
     "output_type": "stream",
     "text": [
      "+-----+------+-------+----+------------+\n",
      "|speed|period|warning|pair|speed_square|\n",
      "+-----+------+-------+----+------------+\n",
      "|26   |1     |1      |1   |676         |\n",
      "|26   |1     |1      |1   |676         |\n",
      "|26   |1     |1      |1   |676         |\n",
      "|26   |1     |1      |1   |676         |\n",
      "|27   |1     |1      |1   |729         |\n",
      "|28   |1     |1      |1   |784         |\n",
      "|28   |1     |1      |1   |784         |\n",
      "|28   |1     |1      |1   |784         |\n",
      "|28   |1     |1      |1   |784         |\n",
      "|29   |1     |1      |1   |841         |\n",
      "|29   |1     |1      |1   |841         |\n",
      "|29   |1     |1      |1   |841         |\n",
      "|29   |1     |1      |1   |841         |\n",
      "|29   |1     |1      |1   |841         |\n",
      "|29   |1     |1      |1   |841         |\n",
      "|29   |1     |1      |1   |841         |\n",
      "|29   |1     |1      |1   |841         |\n",
      "|30   |1     |1      |1   |900         |\n",
      "|30   |1     |1      |1   |900         |\n",
      "|30   |1     |1      |1   |900         |\n",
      "+-----+------+-------+----+------------+\n",
      "only showing top 20 rows\n",
      "\n"
     ]
    }
   ],
   "source": [
    "df.show(20, False)"
   ]
  },
  {
   "cell_type": "code",
   "execution_count": 27,
   "metadata": {},
   "outputs": [
    {
     "data": {
      "text/plain": [
       "10"
      ]
     },
     "execution_count": 27,
     "metadata": {},
     "output_type": "execute_result"
    }
   ],
   "source": [
    "from pyspark.context import SparkContext\n",
    "\n",
    "sc = SparkContext.getOrCreate()\n",
    "\n",
    "class Model:\n",
    "    def __init__(self, x):\n",
    "        self.x = 10\n",
    "\n",
    "model = Model(10)\n",
    "\n",
    "model_broadcast = sc.broadcast(model)\n",
    "\n",
    "model_broadcast.value.x"
   ]
  },
  {
   "cell_type": "code",
   "execution_count": null,
   "metadata": {},
   "outputs": [],
   "source": []
  }
 ],
 "metadata": {
  "kernelspec": {
   "display_name": "Python 3",
   "language": "python",
   "name": "python3"
  },
  "language_info": {
   "codemirror_mode": {
    "name": "ipython",
    "version": 3
   },
   "file_extension": ".py",
   "mimetype": "text/x-python",
   "name": "python",
   "nbconvert_exporter": "python",
   "pygments_lexer": "ipython3",
   "version": "3.7.1"
  }
 },
 "nbformat": 4,
 "nbformat_minor": 2
}
