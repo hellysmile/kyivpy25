{
 "cells": [
  {
   "cell_type": "code",
   "execution_count": 1,
   "metadata": {},
   "outputs": [
    {
     "name": "stdout",
     "output_type": "stream",
     "text": [
      "Collecting package metadata: done\n",
      "Solving environment: done\n",
      "\n",
      "## Package Plan ##\n",
      "\n",
      "  environment location: /opt/conda\n",
      "\n",
      "  added / updated specs:\n",
      "    - pyarrow=0.12.1\n",
      "\n",
      "\n",
      "The following packages will be downloaded:\n",
      "\n",
      "    package                    |            build\n",
      "    ---------------------------|-----------------\n",
      "    arrow-cpp-0.12.1           |   py37h0e61e49_0         6.9 MB  conda-forge\n",
      "    libprotobuf-3.6.1          |    hdbcaa40_1001         4.0 MB  conda-forge\n",
      "    parquet-cpp-1.5.1          |                4           3 KB  conda-forge\n",
      "    pyarrow-0.12.1             |   py37hbbcf98d_0         2.2 MB  conda-forge\n",
      "    thrift-cpp-0.12.0          |    h0a07b25_1002         2.4 MB  conda-forge\n",
      "    ------------------------------------------------------------\n",
      "                                           Total:        15.5 MB\n",
      "\n",
      "The following packages will be REMOVED:\n",
      "\n",
      "  protobuf-3.7.0-py37he1b5a44_1\n",
      "\n",
      "The following packages will be UPDATED:\n",
      "\n",
      "  arrow-cpp                           0.11.1-py37h3bd774a_1 --> 0.12.1-py37h0e61e49_0\n",
      "  parquet-cpp                                       1.5.1-3 --> 1.5.1-4\n",
      "  pyarrow                          0.11.1-py37hbbcf98d_1002 --> 0.12.1-py37hbbcf98d_0\n",
      "  thrift-cpp         pkgs/main::thrift-cpp-0.11.0-h02b749d~ --> conda-forge::thrift-cpp-0.12.0-h0a07b25_1002\n",
      "\n",
      "The following packages will be DOWNGRADED:\n",
      "\n",
      "  libprotobuf                              3.7.0-h8b12597_2 --> 3.6.1-hdbcaa40_1001\n",
      "\n",
      "\n",
      "\n",
      "Downloading and Extracting Packages\n",
      "thrift-cpp-0.12.0    | 2.4 MB    | ##################################### | 100% \n",
      "pyarrow-0.12.1       | 2.2 MB    | ##################################### | 100% \n",
      "arrow-cpp-0.12.1     | 6.9 MB    | ##################################### | 100% \n",
      "parquet-cpp-1.5.1    | 3 KB      | ##################################### | 100% \n",
      "libprotobuf-3.6.1    | 4.0 MB    | ##################################### | 100% \n",
      "Preparing transaction: done\n",
      "Verifying transaction: done\n",
      "Executing transaction: done\n"
     ]
    }
   ],
   "source": [
    "!conda install -y -c conda-forge pyarrow=0.12.1"
   ]
  },
  {
   "cell_type": "code",
   "execution_count": null,
   "metadata": {},
   "outputs": [],
   "source": [
    "from pyspark.sql import SparkSession\n",
    "spark = SparkSession.builder.appName('local').getOrCreate()"
   ]
  },
  {
   "cell_type": "code",
   "execution_count": null,
   "metadata": {},
   "outputs": [],
   "source": [
    "df = spark.read.parquet('file:///home/jovyan/work/amis.parquet')"
   ]
  },
  {
   "cell_type": "code",
   "execution_count": null,
   "metadata": {},
   "outputs": [],
   "source": [
    "from pyspark.sql.functions import udf\n",
    "from pyspark.sql.types import IntegerType\n",
    "\n",
    "@udf(IntegerType())\n",
    "def square(x):\n",
    "    return x ** 2"
   ]
  },
  {
   "cell_type": "code",
   "execution_count": null,
   "metadata": {},
   "outputs": [],
   "source": [
    "df = df.withColumn('speed_square', square(df['speed']))"
   ]
  },
  {
   "cell_type": "code",
   "execution_count": null,
   "metadata": {},
   "outputs": [],
   "source": [
    "df.show(20, truncate=False)"
   ]
  },
  {
   "cell_type": "code",
   "execution_count": null,
   "metadata": {},
   "outputs": [],
   "source": [
    "df = df.drop('speed_square')"
   ]
  },
  {
   "cell_type": "code",
   "execution_count": null,
   "metadata": {},
   "outputs": [],
   "source": [
    "import numpy as np\n",
    "from pyspark.sql.functions import pandas_udf\n",
    "from pyspark.sql.types import IntegerType\n",
    "\n",
    "@pandas_udf(IntegerType())\n",
    "def square(df):\n",
    "    return np.square(df)"
   ]
  },
  {
   "cell_type": "code",
   "execution_count": null,
   "metadata": {},
   "outputs": [],
   "source": [
    "df = df.withColumn('speed_square', square(df['speed']))"
   ]
  },
  {
   "cell_type": "code",
   "execution_count": null,
   "metadata": {},
   "outputs": [],
   "source": [
    "df.show(20, False)"
   ]
  },
  {
   "cell_type": "code",
   "execution_count": null,
   "metadata": {},
   "outputs": [],
   "source": [
    "from pyspark.context import SparkContext\n",
    "\n",
    "sc = SparkContext.getOrCreate()\n",
    "\n",
    "class Model:\n",
    "    def __init__(self, x):\n",
    "        self.x = 10\n",
    "\n",
    "model = Model(10)\n",
    "\n",
    "model_broadcast = sc.broadcast(model)\n",
    "\n",
    "model_broadcast.value.x"
   ]
  },
  {
   "cell_type": "code",
   "execution_count": null,
   "metadata": {},
   "outputs": [],
   "source": []
  }
 ],
 "metadata": {
  "kernelspec": {
   "display_name": "Python 3",
   "language": "python",
   "name": "python3"
  },
  "language_info": {
   "codemirror_mode": {
    "name": "ipython",
    "version": 3
   },
   "file_extension": ".py",
   "mimetype": "text/x-python",
   "name": "python",
   "nbconvert_exporter": "python",
   "pygments_lexer": "ipython3",
   "version": "3.7.1"
  }
 },
 "nbformat": 4,
 "nbformat_minor": 2
}
